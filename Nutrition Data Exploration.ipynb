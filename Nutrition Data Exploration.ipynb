{
 "cells": [
  {
   "cell_type": "markdown",
   "metadata": {
    "Collapsed": "false"
   },
   "source": [
    "# Summary"
   ]
  },
  {
   "cell_type": "markdown",
   "metadata": {
    "Collapsed": "false"
   },
   "source": [
    "## setup"
   ]
  },
  {
   "cell_type": "code",
   "execution_count": 1,
   "metadata": {
    "Collapsed": "false"
   },
   "outputs": [],
   "source": [
    "import pandas as pd\n",
    "import matplotlib.pyplot as plt\n",
    "import numpy as np"
   ]
  },
  {
   "cell_type": "code",
   "execution_count": 2,
   "metadata": {
    "Collapsed": "false"
   },
   "outputs": [],
   "source": [
    "df=pd.read_excel('ABBREV.xlsx') # make this generalizable to universal source"
   ]
  },
  {
   "cell_type": "code",
   "execution_count": 3,
   "metadata": {
    "Collapsed": "false"
   },
   "outputs": [],
   "source": [
    "Macros=df.loc[:,['Shrt_Desc', 'Water_(g)', 'Energ_Kcal', 'Protein_(g)',\n",
    "          'Lipid_Tot_(g)', 'Carbohydrt_(g)', 'Sugar_Tot_(g)',\n",
    "          'FA_Sat_(g)', 'FA_Mono_(g)', 'FA_Poly_(g)']]"
   ]
  },
  {
   "cell_type": "markdown",
   "metadata": {
    "Collapsed": "false"
   },
   "source": [
    "# Data Exploration"
   ]
  },
  {
   "cell_type": "markdown",
   "metadata": {
    "Collapsed": "false"
   },
   "source": [
    "## Univariate"
   ]
  },
  {
   "cell_type": "markdown",
   "metadata": {
    "Collapsed": "false"
   },
   "source": [
    "### Histograms"
   ]
  },
  {
   "cell_type": "code",
   "execution_count": 4,
   "metadata": {
    "Collapsed": "false"
   },
   "outputs": [
    {
     "data": {
      "text/plain": [
       "<matplotlib.axes._subplots.AxesSubplot at 0x2085827ad08>"
      ]
     },
     "execution_count": 4,
     "metadata": {},
     "output_type": "execute_result"
    },
    {
     "data": {
      "image/png": "[encoded data removed]",
      "text/plain": [
       "<Figure size 432x288 with 1 Axes>"
      ]
     },
     "metadata": {
      "needs_background": "light"
     },
     "output_type": "display_data"
    }
   ],
   "source": [
    "Macros['Water_(g)'].hist()"
   ]
  },
  {
   "cell_type": "code",
   "execution_count": 5,
   "metadata": {
    "Collapsed": "false"
   },
   "outputs": [
    {
     "data": {
      "text/plain": [
       "<matplotlib.axes._subplots.AxesSubplot at 0x208562ee1c8>"
      ]
     },
     "execution_count": 5,
     "metadata": {},
     "output_type": "execute_result"
    },
    {
     "data": {
      "image/png": "[encoded data removed]",
      "text/plain": [
       "<Figure size 432x288 with 1 Axes>"
      ]
     },
     "metadata": {
      "needs_background": "light"
     },
     "output_type": "display_data"
    }
   ],
   "source": [
    "Macros['Energ_Kcal'].hist()"
   ]
  },
  {
   "cell_type": "code",
   "execution_count": 6,
   "metadata": {
    "Collapsed": "false"
   },
   "outputs": [
    {
     "data": {
      "text/plain": [
       "<matplotlib.axes._subplots.AxesSubplot at 0x20857c36288>"
      ]
     },
     "execution_count": 6,
     "metadata": {},
     "output_type": "execute_result"
    },
    {
     "data": {
      "image/png": "[encoded data removed]",
      "text/plain": [
       "<Figure size 432x288 with 1 Axes>"
      ]
     },
     "metadata": {
      "needs_background": "light"
     },
     "output_type": "display_data"
    }
   ],
   "source": [
    "Macros['Protein_(g)'].hist()"
   ]
  },
  {
   "cell_type": "code",
   "execution_count": 7,
   "metadata": {
    "Collapsed": "false"
   },
   "outputs": [
    {
     "data": {
      "text/plain": [
       "<matplotlib.axes._subplots.AxesSubplot at 0x2085698d908>"
      ]
     },
     "execution_count": 7,
     "metadata": {},
     "output_type": "execute_result"
    },
    {
     "data": {
      "image/png": "[encoded data removed]",
      "text/plain": [
       "<Figure size 432x288 with 1 Axes>"
      ]
     },
     "metadata": {
      "needs_background": "light"
     },
     "output_type": "display_data"
    }
   ],
   "source": [
    "Macros['Lipid_Tot_(g)'].hist()"
   ]
  },
  {
   "cell_type": "code",
   "execution_count": 8,
   "metadata": {
    "Collapsed": "false"
   },
   "outputs": [
    {
     "data": {
      "text/plain": [
       "<matplotlib.axes._subplots.AxesSubplot at 0x20856a4c388>"
      ]
     },
     "execution_count": 8,
     "metadata": {},
     "output_type": "execute_result"
    },
    {
     "data": {
      "image/png": "[encoded data removed]",
      "text/plain": [
       "<Figure size 432x288 with 1 Axes>"
      ]
     },
     "metadata": {
      "needs_background": "light"
     },
     "output_type": "display_data"
    }
   ],
   "source": [
    "Macros['Carbohydrt_(g)'].hist()"
   ]
  },
  {
   "cell_type": "markdown",
   "metadata": {
    "Collapsed": "false"
   },
   "source": [
    "## Filtering"
   ]
  },
  {
   "cell_type": "code",
   "execution_count": 9,
   "metadata": {
    "Collapsed": "false"
   },
   "outputs": [
    {
     "data": {
      "text/plain": [
       "['EGG,WHITE,DRIED,PDR,STABILIZED,GLUCOSE RED',\n",
       " 'EGG,WHITE,DRIED',\n",
       " 'EGG,WHITE,DRIED,STABILIZED,GLUCOSE RED',\n",
       " 'SOY PROTEIN ISOLATE',\n",
       " 'SOY PROT ISOLATE,K TYPE',\n",
       " 'GELATINS,DRY PDR,UNSWTND',\n",
       " 'SEAL,BEARDED (OOGRUK),MEAT,DRIED (ALASKA NATIVE)']"
      ]
     },
     "execution_count": 9,
     "metadata": {},
     "output_type": "execute_result"
    }
   ],
   "source": [
    "list(Macros['Shrt_Desc'][Macros['Protein_(g)']>80.00]) # How to Filter!"
   ]
  },
  {
   "cell_type": "markdown",
   "metadata": {
    "Collapsed": "false"
   },
   "source": [
    "## Multivariate Analysis"
   ]
  },
  {
   "cell_type": "markdown",
   "metadata": {
    "Collapsed": "false"
   },
   "source": [
    "Corr Plot (easiest)"
   ]
  },
  {
   "cell_type": "code",
   "execution_count": 10,
   "metadata": {
    "Collapsed": "false"
   },
   "outputs": [],
   "source": [
    "data=Macros.loc[:, Macros.columns != 'Shrt_Desc'] # append back to short descp on index\n",
    "# Everything but this column"
   ]
  },
  {
   "cell_type": "code",
   "execution_count": 11,
   "metadata": {
    "Collapsed": "false"
   },
   "outputs": [
    {
     "data": {
      "text/html": [
       "<style  type=\"text/css\" >\n",
       "    #T_e404be66_76e0_11ea_a718_98541bc376b5row0_col0 {\n",
       "            background-color:  #b40426;\n",
       "            color:  #f1f1f1;\n",
       "        }    #T_e404be66_76e0_11ea_a718_98541bc376b5row0_col1 {\n",
       "            background-color:  #3b4cc0;\n",
       "            color:  #f1f1f1;\n",
       "        }    #T_e404be66_76e0_11ea_a718_98541bc376b5row0_col2 {\n",
       "            background-color:  #6b8df0;\n",
       "            color:  #000000;\n",
       "        }    #T_e404be66_76e0_11ea_a718_98541bc376b5row0_col3 {\n",
       "            background-color:  #3b4cc0;\n",
       "            color:  #f1f1f1;\n",
       "        }    #T_e404be66_76e0_11ea_a718_98541bc376b5row0_col4 {\n",
       "            background-color:  #3b4cc0;\n",
       "            color:  #f1f1f1;\n",
       "        }    #T_e404be66_76e0_11ea_a718_98541bc376b5row0_col5 {\n",
       "            background-color:  #3b4cc0;\n",
       "            color:  #f1f1f1;\n",
       "        }    #T_e404be66_76e0_11ea_a718_98541bc376b5row0_col6 {\n",
       "            background-color:  #3b4cc0;\n",
       "            color:  #f1f1f1;\n",
       "        }    #T_e404be66_76e0_11ea_a718_98541bc376b5row0_col7 {\n",
       "            background-color:  #3b4cc0;\n",
       "            color:  #f1f1f1;\n",
       "        }    #T_e404be66_76e0_11ea_a718_98541bc376b5row0_col8 {\n",
       "            background-color:  #3b4cc0;\n",
       "            color:  #f1f1f1;\n",
       "        }    #T_e404be66_76e0_11ea_a718_98541bc376b5row1_col0 {\n",
       "            background-color:  #3b4cc0;\n",
       "            color:  #f1f1f1;\n",
       "        }    #T_e404be66_76e0_11ea_a718_98541bc376b5row1_col1 {\n",
       "            background-color:  #b40426;\n",
       "            color:  #f1f1f1;\n",
       "        }    #T_e404be66_76e0_11ea_a718_98541bc376b5row1_col2 {\n",
       "            background-color:  #a5c3fe;\n",
       "            color:  #000000;\n",
       "        }    #T_e404be66_76e0_11ea_a718_98541bc376b5row1_col3 {\n",
       "            background-color:  #df634e;\n",
       "            color:  #000000;\n",
       "        }    #T_e404be66_76e0_11ea_a718_98541bc376b5row1_col4 {\n",
       "            background-color:  #f7a889;\n",
       "            color:  #000000;\n",
       "        }    #T_e404be66_76e0_11ea_a718_98541bc376b5row1_col5 {\n",
       "            background-color:  #edd2c3;\n",
       "            color:  #000000;\n",
       "        }    #T_e404be66_76e0_11ea_a718_98541bc376b5row1_col6 {\n",
       "            background-color:  #f6a385;\n",
       "            color:  #000000;\n",
       "        }    #T_e404be66_76e0_11ea_a718_98541bc376b5row1_col7 {\n",
       "            background-color:  #f18d6f;\n",
       "            color:  #000000;\n",
       "        }    #T_e404be66_76e0_11ea_a718_98541bc376b5row1_col8 {\n",
       "            background-color:  #f6a586;\n",
       "            color:  #000000;\n",
       "        }    #T_e404be66_76e0_11ea_a718_98541bc376b5row2_col0 {\n",
       "            background-color:  #c6d6f1;\n",
       "            color:  #000000;\n",
       "        }    #T_e404be66_76e0_11ea_a718_98541bc376b5row2_col1 {\n",
       "            background-color:  #e5d8d1;\n",
       "            color:  #000000;\n",
       "        }    #T_e404be66_76e0_11ea_a718_98541bc376b5row2_col2 {\n",
       "            background-color:  #b40426;\n",
       "            color:  #f1f1f1;\n",
       "        }    #T_e404be66_76e0_11ea_a718_98541bc376b5row2_col3 {\n",
       "            background-color:  #b6cefa;\n",
       "            color:  #000000;\n",
       "        }    #T_e404be66_76e0_11ea_a718_98541bc376b5row2_col4 {\n",
       "            background-color:  #92b4fe;\n",
       "            color:  #000000;\n",
       "        }    #T_e404be66_76e0_11ea_a718_98541bc376b5row2_col5 {\n",
       "            background-color:  #6485ec;\n",
       "            color:  #000000;\n",
       "        }    #T_e404be66_76e0_11ea_a718_98541bc376b5row2_col6 {\n",
       "            background-color:  #9ebeff;\n",
       "            color:  #000000;\n",
       "        }    #T_e404be66_76e0_11ea_a718_98541bc376b5row2_col7 {\n",
       "            background-color:  #a9c6fd;\n",
       "            color:  #000000;\n",
       "        }    #T_e404be66_76e0_11ea_a718_98541bc376b5row2_col8 {\n",
       "            background-color:  #8badfd;\n",
       "            color:  #000000;\n",
       "        }    #T_e404be66_76e0_11ea_a718_98541bc376b5row3_col0 {\n",
       "            background-color:  #81a4fb;\n",
       "            color:  #000000;\n",
       "        }    #T_e404be66_76e0_11ea_a718_98541bc376b5row3_col1 {\n",
       "            background-color:  #d75445;\n",
       "            color:  #000000;\n",
       "        }    #T_e404be66_76e0_11ea_a718_98541bc376b5row3_col2 {\n",
       "            background-color:  #97b8ff;\n",
       "            color:  #000000;\n",
       "        }    #T_e404be66_76e0_11ea_a718_98541bc376b5row3_col3 {\n",
       "            background-color:  #b40426;\n",
       "            color:  #f1f1f1;\n",
       "        }    #T_e404be66_76e0_11ea_a718_98541bc376b5row3_col4 {\n",
       "            background-color:  #c3d5f4;\n",
       "            color:  #000000;\n",
       "        }    #T_e404be66_76e0_11ea_a718_98541bc376b5row3_col5 {\n",
       "            background-color:  #aac7fd;\n",
       "            color:  #000000;\n",
       "        }    #T_e404be66_76e0_11ea_a718_98541bc376b5row3_col6 {\n",
       "            background-color:  #e7745b;\n",
       "            color:  #000000;\n",
       "        }    #T_e404be66_76e0_11ea_a718_98541bc376b5row3_col7 {\n",
       "            background-color:  #d1493f;\n",
       "            color:  #f1f1f1;\n",
       "        }    #T_e404be66_76e0_11ea_a718_98541bc376b5row3_col8 {\n",
       "            background-color:  #ee8468;\n",
       "            color:  #000000;\n",
       "        }    #T_e404be66_76e0_11ea_a718_98541bc376b5row4_col0 {\n",
       "            background-color:  #4f69d9;\n",
       "            color:  #000000;\n",
       "        }    #T_e404be66_76e0_11ea_a718_98541bc376b5row4_col1 {\n",
       "            background-color:  #f5a081;\n",
       "            color:  #000000;\n",
       "        }    #T_e404be66_76e0_11ea_a718_98541bc376b5row4_col2 {\n",
       "            background-color:  #3b4cc0;\n",
       "            color:  #f1f1f1;\n",
       "        }    #T_e404be66_76e0_11ea_a718_98541bc376b5row4_col3 {\n",
       "            background-color:  #9dbdff;\n",
       "            color:  #000000;\n",
       "        }    #T_e404be66_76e0_11ea_a718_98541bc376b5row4_col4 {\n",
       "            background-color:  #b40426;\n",
       "            color:  #f1f1f1;\n",
       "        }    #T_e404be66_76e0_11ea_a718_98541bc376b5row4_col5 {\n",
       "            background-color:  #f08a6c;\n",
       "            color:  #000000;\n",
       "        }    #T_e404be66_76e0_11ea_a718_98541bc376b5row4_col6 {\n",
       "            background-color:  #86a9fc;\n",
       "            color:  #000000;\n",
       "        }    #T_e404be66_76e0_11ea_a718_98541bc376b5row4_col7 {\n",
       "            background-color:  #7ea1fa;\n",
       "            color:  #000000;\n",
       "        }    #T_e404be66_76e0_11ea_a718_98541bc376b5row4_col8 {\n",
       "            background-color:  #a7c5fe;\n",
       "            color:  #000000;\n",
       "        }    #T_e404be66_76e0_11ea_a718_98541bc376b5row5_col0 {\n",
       "            background-color:  #7ea1fa;\n",
       "            color:  #000000;\n",
       "        }    #T_e404be66_76e0_11ea_a718_98541bc376b5row5_col1 {\n",
       "            background-color:  #f7ba9f;\n",
       "            color:  #000000;\n",
       "        }    #T_e404be66_76e0_11ea_a718_98541bc376b5row5_col2 {\n",
       "            background-color:  #3b4cc0;\n",
       "            color:  #f1f1f1;\n",
       "        }    #T_e404be66_76e0_11ea_a718_98541bc376b5row5_col3 {\n",
       "            background-color:  #a7c5fe;\n",
       "            color:  #000000;\n",
       "        }    #T_e404be66_76e0_11ea_a718_98541bc376b5row5_col4 {\n",
       "            background-color:  #ea7b60;\n",
       "            color:  #000000;\n",
       "        }    #T_e404be66_76e0_11ea_a718_98541bc376b5row5_col5 {\n",
       "            background-color:  #b40426;\n",
       "            color:  #f1f1f1;\n",
       "        }    #T_e404be66_76e0_11ea_a718_98541bc376b5row5_col6 {\n",
       "            background-color:  #a6c4fe;\n",
       "            color:  #000000;\n",
       "        }    #T_e404be66_76e0_11ea_a718_98541bc376b5row5_col7 {\n",
       "            background-color:  #86a9fc;\n",
       "            color:  #000000;\n",
       "        }    #T_e404be66_76e0_11ea_a718_98541bc376b5row5_col8 {\n",
       "            background-color:  #98b9ff;\n",
       "            color:  #000000;\n",
       "        }    #T_e404be66_76e0_11ea_a718_98541bc376b5row6_col0 {\n",
       "            background-color:  #97b8ff;\n",
       "            color:  #000000;\n",
       "        }    #T_e404be66_76e0_11ea_a718_98541bc376b5row6_col1 {\n",
       "            background-color:  #ed8366;\n",
       "            color:  #000000;\n",
       "        }    #T_e404be66_76e0_11ea_a718_98541bc376b5row6_col2 {\n",
       "            background-color:  #92b4fe;\n",
       "            color:  #000000;\n",
       "        }    #T_e404be66_76e0_11ea_a718_98541bc376b5row6_col3 {\n",
       "            background-color:  #e36c55;\n",
       "            color:  #000000;\n",
       "        }    #T_e404be66_76e0_11ea_a718_98541bc376b5row6_col4 {\n",
       "            background-color:  #c3d5f4;\n",
       "            color:  #000000;\n",
       "        }    #T_e404be66_76e0_11ea_a718_98541bc376b5row6_col5 {\n",
       "            background-color:  #bbd1f8;\n",
       "            color:  #000000;\n",
       "        }    #T_e404be66_76e0_11ea_a718_98541bc376b5row6_col6 {\n",
       "            background-color:  #b40426;\n",
       "            color:  #f1f1f1;\n",
       "        }    #T_e404be66_76e0_11ea_a718_98541bc376b5row6_col7 {\n",
       "            background-color:  #f7bca1;\n",
       "            color:  #000000;\n",
       "        }    #T_e404be66_76e0_11ea_a718_98541bc376b5row6_col8 {\n",
       "            background-color:  #d6dce4;\n",
       "            color:  #000000;\n",
       "        }    #T_e404be66_76e0_11ea_a718_98541bc376b5row7_col0 {\n",
       "            background-color:  #93b5fe;\n",
       "            color:  #000000;\n",
       "        }    #T_e404be66_76e0_11ea_a718_98541bc376b5row7_col1 {\n",
       "            background-color:  #e67259;\n",
       "            color:  #000000;\n",
       "        }    #T_e404be66_76e0_11ea_a718_98541bc376b5row7_col2 {\n",
       "            background-color:  #9abbff;\n",
       "            color:  #000000;\n",
       "        }    #T_e404be66_76e0_11ea_a718_98541bc376b5row7_col3 {\n",
       "            background-color:  #cf453c;\n",
       "            color:  #f1f1f1;\n",
       "        }    #T_e404be66_76e0_11ea_a718_98541bc376b5row7_col4 {\n",
       "            background-color:  #b9d0f9;\n",
       "            color:  #000000;\n",
       "        }    #T_e404be66_76e0_11ea_a718_98541bc376b5row7_col5 {\n",
       "            background-color:  #9bbcff;\n",
       "            color:  #000000;\n",
       "        }    #T_e404be66_76e0_11ea_a718_98541bc376b5row7_col6 {\n",
       "            background-color:  #f6bea4;\n",
       "            color:  #000000;\n",
       "        }    #T_e404be66_76e0_11ea_a718_98541bc376b5row7_col7 {\n",
       "            background-color:  #b40426;\n",
       "            color:  #f1f1f1;\n",
       "        }    #T_e404be66_76e0_11ea_a718_98541bc376b5row7_col8 {\n",
       "            background-color:  #f7b093;\n",
       "            color:  #000000;\n",
       "        }    #T_e404be66_76e0_11ea_a718_98541bc376b5row8_col0 {\n",
       "            background-color:  #90b2fe;\n",
       "            color:  #000000;\n",
       "        }    #T_e404be66_76e0_11ea_a718_98541bc376b5row8_col1 {\n",
       "            background-color:  #ee8669;\n",
       "            color:  #000000;\n",
       "        }    #T_e404be66_76e0_11ea_a718_98541bc376b5row8_col2 {\n",
       "            background-color:  #7699f6;\n",
       "            color:  #000000;\n",
       "        }    #T_e404be66_76e0_11ea_a718_98541bc376b5row8_col3 {\n",
       "            background-color:  #ec8165;\n",
       "            color:  #000000;\n",
       "        }    #T_e404be66_76e0_11ea_a718_98541bc376b5row8_col4 {\n",
       "            background-color:  #d4dbe6;\n",
       "            color:  #000000;\n",
       "        }    #T_e404be66_76e0_11ea_a718_98541bc376b5row8_col5 {\n",
       "            background-color:  #aac7fd;\n",
       "            color:  #000000;\n",
       "        }    #T_e404be66_76e0_11ea_a718_98541bc376b5row8_col6 {\n",
       "            background-color:  #d2dbe8;\n",
       "            color:  #000000;\n",
       "        }    #T_e404be66_76e0_11ea_a718_98541bc376b5row8_col7 {\n",
       "            background-color:  #f7b093;\n",
       "            color:  #000000;\n",
       "        }    #T_e404be66_76e0_11ea_a718_98541bc376b5row8_col8 {\n",
       "            background-color:  #b40426;\n",
       "            color:  #f1f1f1;\n",
       "        }</style><table id=\"T_e404be66_76e0_11ea_a718_98541bc376b5\" ><thead>    <tr>        <th class=\"blank level0\" ></th>        <th class=\"col_heading level0 col0\" >Water_(g)</th>        <th class=\"col_heading level0 col1\" >Energ_Kcal</th>        <th class=\"col_heading level0 col2\" >Protein_(g)</th>        <th class=\"col_heading level0 col3\" >Lipid_Tot_(g)</th>        <th class=\"col_heading level0 col4\" >Carbohydrt_(g)</th>        <th class=\"col_heading level0 col5\" >Sugar_Tot_(g)</th>        <th class=\"col_heading level0 col6\" >FA_Sat_(g)</th>        <th class=\"col_heading level0 col7\" >FA_Mono_(g)</th>        <th class=\"col_heading level0 col8\" >FA_Poly_(g)</th>    </tr></thead><tbody>\n",
       "                <tr>\n",
       "                        <th id=\"T_e404be66_76e0_11ea_a718_98541bc376b5level0_row0\" class=\"row_heading level0 row0\" >Water_(g)</th>\n",
       "                        <td id=\"T_e404be66_76e0_11ea_a718_98541bc376b5row0_col0\" class=\"data row0 col0\" >1.00</td>\n",
       "                        <td id=\"T_e404be66_76e0_11ea_a718_98541bc376b5row0_col1\" class=\"data row0 col1\" >-0.90</td>\n",
       "                        <td id=\"T_e404be66_76e0_11ea_a718_98541bc376b5row0_col2\" class=\"data row0 col2\" >-0.10</td>\n",
       "                        <td id=\"T_e404be66_76e0_11ea_a718_98541bc376b5row0_col3\" class=\"data row0 col3\" >-0.49</td>\n",
       "                        <td id=\"T_e404be66_76e0_11ea_a718_98541bc376b5row0_col4\" class=\"data row0 col4\" >-0.77</td>\n",
       "                        <td id=\"T_e404be66_76e0_11ea_a718_98541bc376b5row0_col5\" class=\"data row0 col5\" >-0.51</td>\n",
       "                        <td id=\"T_e404be66_76e0_11ea_a718_98541bc376b5row0_col6\" class=\"data row0 col6\" >-0.37</td>\n",
       "                        <td id=\"T_e404be66_76e0_11ea_a718_98541bc376b5row0_col7\" class=\"data row0 col7\" >-0.39</td>\n",
       "                        <td id=\"T_e404be66_76e0_11ea_a718_98541bc376b5row0_col8\" class=\"data row0 col8\" >-0.41</td>\n",
       "            </tr>\n",
       "            <tr>\n",
       "                        <th id=\"T_e404be66_76e0_11ea_a718_98541bc376b5level0_row1\" class=\"row_heading level0 row1\" >Energ_Kcal</th>\n",
       "                        <td id=\"T_e404be66_76e0_11ea_a718_98541bc376b5row1_col0\" class=\"data row1 col0\" >-0.90</td>\n",
       "                        <td id=\"T_e404be66_76e0_11ea_a718_98541bc376b5row1_col1\" class=\"data row1 col1\" >1.00</td>\n",
       "                        <td id=\"T_e404be66_76e0_11ea_a718_98541bc376b5row1_col2\" class=\"data row1 col2\" >0.11</td>\n",
       "                        <td id=\"T_e404be66_76e0_11ea_a718_98541bc376b5row1_col3\" class=\"data row1 col3\" >0.81</td>\n",
       "                        <td id=\"T_e404be66_76e0_11ea_a718_98541bc376b5row1_col4\" class=\"data row1 col4\" >0.49</td>\n",
       "                        <td id=\"T_e404be66_76e0_11ea_a718_98541bc376b5row1_col5\" class=\"data row1 col5\" >0.35</td>\n",
       "                        <td id=\"T_e404be66_76e0_11ea_a718_98541bc376b5row1_col6\" class=\"data row1 col6\" >0.62</td>\n",
       "                        <td id=\"T_e404be66_76e0_11ea_a718_98541bc376b5row1_col7\" class=\"data row1 col7\" >0.69</td>\n",
       "                        <td id=\"T_e404be66_76e0_11ea_a718_98541bc376b5row1_col8\" class=\"data row1 col8\" >0.61</td>\n",
       "            </tr>\n",
       "            <tr>\n",
       "                        <th id=\"T_e404be66_76e0_11ea_a718_98541bc376b5level0_row2\" class=\"row_heading level0 row2\" >Protein_(g)</th>\n",
       "                        <td id=\"T_e404be66_76e0_11ea_a718_98541bc376b5row2_col0\" class=\"data row2 col0\" >-0.10</td>\n",
       "                        <td id=\"T_e404be66_76e0_11ea_a718_98541bc376b5row2_col1\" class=\"data row2 col1\" >0.11</td>\n",
       "                        <td id=\"T_e404be66_76e0_11ea_a718_98541bc376b5row2_col2\" class=\"data row2 col2\" >1.00</td>\n",
       "                        <td id=\"T_e404be66_76e0_11ea_a718_98541bc376b5row2_col3\" class=\"data row2 col3\" >0.06</td>\n",
       "                        <td id=\"T_e404be66_76e0_11ea_a718_98541bc376b5row2_col4\" class=\"data row2 col4\" >-0.30</td>\n",
       "                        <td id=\"T_e404be66_76e0_11ea_a718_98541bc376b5row2_col5\" class=\"data row2 col5\" >-0.30</td>\n",
       "                        <td id=\"T_e404be66_76e0_11ea_a718_98541bc376b5row2_col6\" class=\"data row2 col6\" >0.04</td>\n",
       "                        <td id=\"T_e404be66_76e0_11ea_a718_98541bc376b5row2_col7\" class=\"data row2 col7\" >0.07</td>\n",
       "                        <td id=\"T_e404be66_76e0_11ea_a718_98541bc376b5row2_col8\" class=\"data row2 col8\" >-0.06</td>\n",
       "            </tr>\n",
       "            <tr>\n",
       "                        <th id=\"T_e404be66_76e0_11ea_a718_98541bc376b5level0_row3\" class=\"row_heading level0 row3\" >Lipid_Tot_(g)</th>\n",
       "                        <td id=\"T_e404be66_76e0_11ea_a718_98541bc376b5row3_col0\" class=\"data row3 col0\" >-0.49</td>\n",
       "                        <td id=\"T_e404be66_76e0_11ea_a718_98541bc376b5row3_col1\" class=\"data row3 col1\" >0.81</td>\n",
       "                        <td id=\"T_e404be66_76e0_11ea_a718_98541bc376b5row3_col2\" class=\"data row3 col2\" >0.06</td>\n",
       "                        <td id=\"T_e404be66_76e0_11ea_a718_98541bc376b5row3_col3\" class=\"data row3 col3\" >1.00</td>\n",
       "                        <td id=\"T_e404be66_76e0_11ea_a718_98541bc376b5row3_col4\" class=\"data row3 col4\" >-0.05</td>\n",
       "                        <td id=\"T_e404be66_76e0_11ea_a718_98541bc376b5row3_col5\" class=\"data row3 col5\" >-0.00</td>\n",
       "                        <td id=\"T_e404be66_76e0_11ea_a718_98541bc376b5row3_col6\" class=\"data row3 col6\" >0.77</td>\n",
       "                        <td id=\"T_e404be66_76e0_11ea_a718_98541bc376b5row3_col7\" class=\"data row3 col7\" >0.89</td>\n",
       "                        <td id=\"T_e404be66_76e0_11ea_a718_98541bc376b5row3_col8\" class=\"data row3 col8\" >0.71</td>\n",
       "            </tr>\n",
       "            <tr>\n",
       "                        <th id=\"T_e404be66_76e0_11ea_a718_98541bc376b5level0_row4\" class=\"row_heading level0 row4\" >Carbohydrt_(g)</th>\n",
       "                        <td id=\"T_e404be66_76e0_11ea_a718_98541bc376b5row4_col0\" class=\"data row4 col0\" >-0.77</td>\n",
       "                        <td id=\"T_e404be66_76e0_11ea_a718_98541bc376b5row4_col1\" class=\"data row4 col1\" >0.49</td>\n",
       "                        <td id=\"T_e404be66_76e0_11ea_a718_98541bc376b5row4_col2\" class=\"data row4 col2\" >-0.30</td>\n",
       "                        <td id=\"T_e404be66_76e0_11ea_a718_98541bc376b5row4_col3\" class=\"data row4 col3\" >-0.05</td>\n",
       "                        <td id=\"T_e404be66_76e0_11ea_a718_98541bc376b5row4_col4\" class=\"data row4 col4\" >1.00</td>\n",
       "                        <td id=\"T_e404be66_76e0_11ea_a718_98541bc376b5row4_col5\" class=\"data row4 col5\" >0.68</td>\n",
       "                        <td id=\"T_e404be66_76e0_11ea_a718_98541bc376b5row4_col6\" class=\"data row4 col6\" >-0.05</td>\n",
       "                        <td id=\"T_e404be66_76e0_11ea_a718_98541bc376b5row4_col7\" class=\"data row4 col7\" >-0.10</td>\n",
       "                        <td id=\"T_e404be66_76e0_11ea_a718_98541bc376b5row4_col8\" class=\"data row4 col8\" >0.05</td>\n",
       "            </tr>\n",
       "            <tr>\n",
       "                        <th id=\"T_e404be66_76e0_11ea_a718_98541bc376b5level0_row5\" class=\"row_heading level0 row5\" >Sugar_Tot_(g)</th>\n",
       "                        <td id=\"T_e404be66_76e0_11ea_a718_98541bc376b5row5_col0\" class=\"data row5 col0\" >-0.51</td>\n",
       "                        <td id=\"T_e404be66_76e0_11ea_a718_98541bc376b5row5_col1\" class=\"data row5 col1\" >0.35</td>\n",
       "                        <td id=\"T_e404be66_76e0_11ea_a718_98541bc376b5row5_col2\" class=\"data row5 col2\" >-0.30</td>\n",
       "                        <td id=\"T_e404be66_76e0_11ea_a718_98541bc376b5row5_col3\" class=\"data row5 col3\" >-0.00</td>\n",
       "                        <td id=\"T_e404be66_76e0_11ea_a718_98541bc376b5row5_col4\" class=\"data row5 col4\" >0.68</td>\n",
       "                        <td id=\"T_e404be66_76e0_11ea_a718_98541bc376b5row5_col5\" class=\"data row5 col5\" >1.00</td>\n",
       "                        <td id=\"T_e404be66_76e0_11ea_a718_98541bc376b5row5_col6\" class=\"data row5 col6\" >0.07</td>\n",
       "                        <td id=\"T_e404be66_76e0_11ea_a718_98541bc376b5row5_col7\" class=\"data row5 col7\" >-0.07</td>\n",
       "                        <td id=\"T_e404be66_76e0_11ea_a718_98541bc376b5row5_col8\" class=\"data row5 col8\" >-0.01</td>\n",
       "            </tr>\n",
       "            <tr>\n",
       "                        <th id=\"T_e404be66_76e0_11ea_a718_98541bc376b5level0_row6\" class=\"row_heading level0 row6\" >FA_Sat_(g)</th>\n",
       "                        <td id=\"T_e404be66_76e0_11ea_a718_98541bc376b5row6_col0\" class=\"data row6 col0\" >-0.37</td>\n",
       "                        <td id=\"T_e404be66_76e0_11ea_a718_98541bc376b5row6_col1\" class=\"data row6 col1\" >0.62</td>\n",
       "                        <td id=\"T_e404be66_76e0_11ea_a718_98541bc376b5row6_col2\" class=\"data row6 col2\" >0.04</td>\n",
       "                        <td id=\"T_e404be66_76e0_11ea_a718_98541bc376b5row6_col3\" class=\"data row6 col3\" >0.77</td>\n",
       "                        <td id=\"T_e404be66_76e0_11ea_a718_98541bc376b5row6_col4\" class=\"data row6 col4\" >-0.05</td>\n",
       "                        <td id=\"T_e404be66_76e0_11ea_a718_98541bc376b5row6_col5\" class=\"data row6 col5\" >0.07</td>\n",
       "                        <td id=\"T_e404be66_76e0_11ea_a718_98541bc376b5row6_col6\" class=\"data row6 col6\" >1.00</td>\n",
       "                        <td id=\"T_e404be66_76e0_11ea_a718_98541bc376b5row6_col7\" class=\"data row6 col7\" >0.52</td>\n",
       "                        <td id=\"T_e404be66_76e0_11ea_a718_98541bc376b5row6_col8\" class=\"data row6 col8\" >0.26</td>\n",
       "            </tr>\n",
       "            <tr>\n",
       "                        <th id=\"T_e404be66_76e0_11ea_a718_98541bc376b5level0_row7\" class=\"row_heading level0 row7\" >FA_Mono_(g)</th>\n",
       "                        <td id=\"T_e404be66_76e0_11ea_a718_98541bc376b5row7_col0\" class=\"data row7 col0\" >-0.39</td>\n",
       "                        <td id=\"T_e404be66_76e0_11ea_a718_98541bc376b5row7_col1\" class=\"data row7 col1\" >0.69</td>\n",
       "                        <td id=\"T_e404be66_76e0_11ea_a718_98541bc376b5row7_col2\" class=\"data row7 col2\" >0.07</td>\n",
       "                        <td id=\"T_e404be66_76e0_11ea_a718_98541bc376b5row7_col3\" class=\"data row7 col3\" >0.89</td>\n",
       "                        <td id=\"T_e404be66_76e0_11ea_a718_98541bc376b5row7_col4\" class=\"data row7 col4\" >-0.10</td>\n",
       "                        <td id=\"T_e404be66_76e0_11ea_a718_98541bc376b5row7_col5\" class=\"data row7 col5\" >-0.07</td>\n",
       "                        <td id=\"T_e404be66_76e0_11ea_a718_98541bc376b5row7_col6\" class=\"data row7 col6\" >0.52</td>\n",
       "                        <td id=\"T_e404be66_76e0_11ea_a718_98541bc376b5row7_col7\" class=\"data row7 col7\" >1.00</td>\n",
       "                        <td id=\"T_e404be66_76e0_11ea_a718_98541bc376b5row7_col8\" class=\"data row7 col8\" >0.57</td>\n",
       "            </tr>\n",
       "            <tr>\n",
       "                        <th id=\"T_e404be66_76e0_11ea_a718_98541bc376b5level0_row8\" class=\"row_heading level0 row8\" >FA_Poly_(g)</th>\n",
       "                        <td id=\"T_e404be66_76e0_11ea_a718_98541bc376b5row8_col0\" class=\"data row8 col0\" >-0.41</td>\n",
       "                        <td id=\"T_e404be66_76e0_11ea_a718_98541bc376b5row8_col1\" class=\"data row8 col1\" >0.61</td>\n",
       "                        <td id=\"T_e404be66_76e0_11ea_a718_98541bc376b5row8_col2\" class=\"data row8 col2\" >-0.06</td>\n",
       "                        <td id=\"T_e404be66_76e0_11ea_a718_98541bc376b5row8_col3\" class=\"data row8 col3\" >0.71</td>\n",
       "                        <td id=\"T_e404be66_76e0_11ea_a718_98541bc376b5row8_col4\" class=\"data row8 col4\" >0.05</td>\n",
       "                        <td id=\"T_e404be66_76e0_11ea_a718_98541bc376b5row8_col5\" class=\"data row8 col5\" >-0.01</td>\n",
       "                        <td id=\"T_e404be66_76e0_11ea_a718_98541bc376b5row8_col6\" class=\"data row8 col6\" >0.26</td>\n",
       "                        <td id=\"T_e404be66_76e0_11ea_a718_98541bc376b5row8_col7\" class=\"data row8 col7\" >0.57</td>\n",
       "                        <td id=\"T_e404be66_76e0_11ea_a718_98541bc376b5row8_col8\" class=\"data row8 col8\" >1.00</td>\n",
       "            </tr>\n",
       "    </tbody></table>"
      ],
      "text/plain": [
       "<pandas.io.formats.style.Styler at 0x208562ee848>"
      ]
     },
     "execution_count": 11,
     "metadata": {},
     "output_type": "execute_result"
    }
   ],
   "source": [
    "data.corr().style.background_gradient(cmap='coolwarm').set_precision(2)"
   ]
  },
  {
   "cell_type": "code",
   "execution_count": null,
   "metadata": {
    "Collapsed": "false"
   },
   "outputs": [],
   "source": []
  },
  {
   "cell_type": "markdown",
   "metadata": {
    "Collapsed": "false"
   },
   "source": [
    "# Missing Data"
   ]
  },
  {
   "cell_type": "code",
   "execution_count": null,
   "metadata": {
    "Collapsed": "false"
   },
   "outputs": [],
   "source": []
  },
  {
   "cell_type": "markdown",
   "metadata": {
    "Collapsed": "false"
   },
   "source": [
    "### Identify"
   ]
  },
  {
   "cell_type": "code",
   "execution_count": 12,
   "metadata": {
    "Collapsed": "false"
   },
   "outputs": [
    {
     "data": {
      "text/html": [
       "<div>\n",
       "<style scoped>\n",
       "    .dataframe tbody tr th:only-of-type {\n",
       "        vertical-align: middle;\n",
       "    }\n",
       "\n",
       "    .dataframe tbody tr th {\n",
       "        vertical-align: top;\n",
       "    }\n",
       "\n",
       "    .dataframe thead th {\n",
       "        text-align: right;\n",
       "    }\n",
       "</style>\n",
       "<table border=\"1\" class=\"dataframe\">\n",
       "  <thead>\n",
       "    <tr style=\"text-align: right;\">\n",
       "      <th></th>\n",
       "      <th>NDB_No</th>\n",
       "      <th>Shrt_Desc</th>\n",
       "      <th>Water_(g)</th>\n",
       "      <th>Energ_Kcal</th>\n",
       "      <th>Protein_(g)</th>\n",
       "      <th>Lipid_Tot_(g)</th>\n",
       "      <th>Ash_(g)</th>\n",
       "      <th>Carbohydrt_(g)</th>\n",
       "      <th>Fiber_TD_(g)</th>\n",
       "      <th>Sugar_Tot_(g)</th>\n",
       "      <th>...</th>\n",
       "      <th>Vit_K_(µg)</th>\n",
       "      <th>FA_Sat_(g)</th>\n",
       "      <th>FA_Mono_(g)</th>\n",
       "      <th>FA_Poly_(g)</th>\n",
       "      <th>Cholestrl_(mg)</th>\n",
       "      <th>GmWt_1</th>\n",
       "      <th>GmWt_Desc1</th>\n",
       "      <th>GmWt_2</th>\n",
       "      <th>GmWt_Desc2</th>\n",
       "      <th>Refuse_Pct</th>\n",
       "    </tr>\n",
       "  </thead>\n",
       "  <tbody>\n",
       "    <tr>\n",
       "      <th>0</th>\n",
       "      <td>False</td>\n",
       "      <td>False</td>\n",
       "      <td>False</td>\n",
       "      <td>False</td>\n",
       "      <td>False</td>\n",
       "      <td>False</td>\n",
       "      <td>False</td>\n",
       "      <td>False</td>\n",
       "      <td>False</td>\n",
       "      <td>False</td>\n",
       "      <td>...</td>\n",
       "      <td>False</td>\n",
       "      <td>False</td>\n",
       "      <td>False</td>\n",
       "      <td>False</td>\n",
       "      <td>False</td>\n",
       "      <td>False</td>\n",
       "      <td>False</td>\n",
       "      <td>False</td>\n",
       "      <td>False</td>\n",
       "      <td>False</td>\n",
       "    </tr>\n",
       "    <tr>\n",
       "      <th>1</th>\n",
       "      <td>False</td>\n",
       "      <td>False</td>\n",
       "      <td>False</td>\n",
       "      <td>False</td>\n",
       "      <td>False</td>\n",
       "      <td>False</td>\n",
       "      <td>False</td>\n",
       "      <td>False</td>\n",
       "      <td>False</td>\n",
       "      <td>False</td>\n",
       "      <td>...</td>\n",
       "      <td>False</td>\n",
       "      <td>False</td>\n",
       "      <td>False</td>\n",
       "      <td>False</td>\n",
       "      <td>False</td>\n",
       "      <td>False</td>\n",
       "      <td>False</td>\n",
       "      <td>False</td>\n",
       "      <td>False</td>\n",
       "      <td>False</td>\n",
       "    </tr>\n",
       "    <tr>\n",
       "      <th>2</th>\n",
       "      <td>False</td>\n",
       "      <td>False</td>\n",
       "      <td>False</td>\n",
       "      <td>False</td>\n",
       "      <td>False</td>\n",
       "      <td>False</td>\n",
       "      <td>False</td>\n",
       "      <td>False</td>\n",
       "      <td>False</td>\n",
       "      <td>False</td>\n",
       "      <td>...</td>\n",
       "      <td>False</td>\n",
       "      <td>False</td>\n",
       "      <td>False</td>\n",
       "      <td>False</td>\n",
       "      <td>False</td>\n",
       "      <td>False</td>\n",
       "      <td>False</td>\n",
       "      <td>False</td>\n",
       "      <td>False</td>\n",
       "      <td>False</td>\n",
       "    </tr>\n",
       "    <tr>\n",
       "      <th>3</th>\n",
       "      <td>False</td>\n",
       "      <td>False</td>\n",
       "      <td>False</td>\n",
       "      <td>False</td>\n",
       "      <td>False</td>\n",
       "      <td>False</td>\n",
       "      <td>False</td>\n",
       "      <td>False</td>\n",
       "      <td>False</td>\n",
       "      <td>False</td>\n",
       "      <td>...</td>\n",
       "      <td>False</td>\n",
       "      <td>False</td>\n",
       "      <td>False</td>\n",
       "      <td>False</td>\n",
       "      <td>False</td>\n",
       "      <td>False</td>\n",
       "      <td>False</td>\n",
       "      <td>False</td>\n",
       "      <td>False</td>\n",
       "      <td>False</td>\n",
       "    </tr>\n",
       "    <tr>\n",
       "      <th>4</th>\n",
       "      <td>False</td>\n",
       "      <td>False</td>\n",
       "      <td>False</td>\n",
       "      <td>False</td>\n",
       "      <td>False</td>\n",
       "      <td>False</td>\n",
       "      <td>False</td>\n",
       "      <td>False</td>\n",
       "      <td>False</td>\n",
       "      <td>False</td>\n",
       "      <td>...</td>\n",
       "      <td>False</td>\n",
       "      <td>False</td>\n",
       "      <td>False</td>\n",
       "      <td>False</td>\n",
       "      <td>False</td>\n",
       "      <td>False</td>\n",
       "      <td>False</td>\n",
       "      <td>False</td>\n",
       "      <td>False</td>\n",
       "      <td>False</td>\n",
       "    </tr>\n",
       "    <tr>\n",
       "      <th>...</th>\n",
       "      <td>...</td>\n",
       "      <td>...</td>\n",
       "      <td>...</td>\n",
       "      <td>...</td>\n",
       "      <td>...</td>\n",
       "      <td>...</td>\n",
       "      <td>...</td>\n",
       "      <td>...</td>\n",
       "      <td>...</td>\n",
       "      <td>...</td>\n",
       "      <td>...</td>\n",
       "      <td>...</td>\n",
       "      <td>...</td>\n",
       "      <td>...</td>\n",
       "      <td>...</td>\n",
       "      <td>...</td>\n",
       "      <td>...</td>\n",
       "      <td>...</td>\n",
       "      <td>...</td>\n",
       "      <td>...</td>\n",
       "      <td>...</td>\n",
       "    </tr>\n",
       "    <tr>\n",
       "      <th>8785</th>\n",
       "      <td>False</td>\n",
       "      <td>False</td>\n",
       "      <td>False</td>\n",
       "      <td>False</td>\n",
       "      <td>False</td>\n",
       "      <td>False</td>\n",
       "      <td>False</td>\n",
       "      <td>False</td>\n",
       "      <td>False</td>\n",
       "      <td>False</td>\n",
       "      <td>...</td>\n",
       "      <td>False</td>\n",
       "      <td>False</td>\n",
       "      <td>False</td>\n",
       "      <td>False</td>\n",
       "      <td>False</td>\n",
       "      <td>False</td>\n",
       "      <td>False</td>\n",
       "      <td>False</td>\n",
       "      <td>False</td>\n",
       "      <td>False</td>\n",
       "    </tr>\n",
       "    <tr>\n",
       "      <th>8786</th>\n",
       "      <td>False</td>\n",
       "      <td>False</td>\n",
       "      <td>False</td>\n",
       "      <td>False</td>\n",
       "      <td>False</td>\n",
       "      <td>False</td>\n",
       "      <td>False</td>\n",
       "      <td>False</td>\n",
       "      <td>False</td>\n",
       "      <td>False</td>\n",
       "      <td>...</td>\n",
       "      <td>False</td>\n",
       "      <td>False</td>\n",
       "      <td>False</td>\n",
       "      <td>False</td>\n",
       "      <td>False</td>\n",
       "      <td>False</td>\n",
       "      <td>False</td>\n",
       "      <td>True</td>\n",
       "      <td>True</td>\n",
       "      <td>False</td>\n",
       "    </tr>\n",
       "    <tr>\n",
       "      <th>8787</th>\n",
       "      <td>False</td>\n",
       "      <td>False</td>\n",
       "      <td>False</td>\n",
       "      <td>False</td>\n",
       "      <td>False</td>\n",
       "      <td>False</td>\n",
       "      <td>False</td>\n",
       "      <td>False</td>\n",
       "      <td>False</td>\n",
       "      <td>False</td>\n",
       "      <td>...</td>\n",
       "      <td>False</td>\n",
       "      <td>False</td>\n",
       "      <td>False</td>\n",
       "      <td>False</td>\n",
       "      <td>False</td>\n",
       "      <td>False</td>\n",
       "      <td>False</td>\n",
       "      <td>True</td>\n",
       "      <td>True</td>\n",
       "      <td>False</td>\n",
       "    </tr>\n",
       "    <tr>\n",
       "      <th>8788</th>\n",
       "      <td>False</td>\n",
       "      <td>False</td>\n",
       "      <td>False</td>\n",
       "      <td>False</td>\n",
       "      <td>False</td>\n",
       "      <td>False</td>\n",
       "      <td>False</td>\n",
       "      <td>False</td>\n",
       "      <td>False</td>\n",
       "      <td>False</td>\n",
       "      <td>...</td>\n",
       "      <td>False</td>\n",
       "      <td>False</td>\n",
       "      <td>False</td>\n",
       "      <td>False</td>\n",
       "      <td>False</td>\n",
       "      <td>False</td>\n",
       "      <td>False</td>\n",
       "      <td>True</td>\n",
       "      <td>True</td>\n",
       "      <td>False</td>\n",
       "    </tr>\n",
       "    <tr>\n",
       "      <th>8789</th>\n",
       "      <td>False</td>\n",
       "      <td>False</td>\n",
       "      <td>False</td>\n",
       "      <td>False</td>\n",
       "      <td>False</td>\n",
       "      <td>False</td>\n",
       "      <td>False</td>\n",
       "      <td>False</td>\n",
       "      <td>False</td>\n",
       "      <td>False</td>\n",
       "      <td>...</td>\n",
       "      <td>False</td>\n",
       "      <td>False</td>\n",
       "      <td>False</td>\n",
       "      <td>False</td>\n",
       "      <td>False</td>\n",
       "      <td>False</td>\n",
       "      <td>False</td>\n",
       "      <td>True</td>\n",
       "      <td>True</td>\n",
       "      <td>False</td>\n",
       "    </tr>\n",
       "  </tbody>\n",
       "</table>\n",
       "<p>8790 rows × 53 columns</p>\n",
       "</div>"
      ],
      "text/plain": [
       "      NDB_No  Shrt_Desc  Water_(g)  Energ_Kcal  Protein_(g)  Lipid_Tot_(g)  \\\n",
       "0      False      False      False       False        False          False   \n",
       "1      False      False      False       False        False          False   \n",
       "2      False      False      False       False        False          False   \n",
       "3      False      False      False       False        False          False   \n",
       "4      False      False      False       False        False          False   \n",
       "...      ...        ...        ...         ...          ...            ...   \n",
       "8785   False      False      False       False        False          False   \n",
       "8786   False      False      False       False        False          False   \n",
       "8787   False      False      False       False        False          False   \n",
       "8788   False      False      False       False        False          False   \n",
       "8789   False      False      False       False        False          False   \n",
       "\n",
       "      Ash_(g)  Carbohydrt_(g)  Fiber_TD_(g)  Sugar_Tot_(g)  ...  Vit_K_(µg)  \\\n",
       "0       False           False         False          False  ...       False   \n",
       "1       False           False         False          False  ...       False   \n",
       "2       False           False         False          False  ...       False   \n",
       "3       False           False         False          False  ...       False   \n",
       "4       False           False         False          False  ...       False   \n",
       "...       ...             ...           ...            ...  ...         ...   \n",
       "8785    False           False         False          False  ...       False   \n",
       "8786    False           False         False          False  ...       False   \n",
       "8787    False           False         False          False  ...       False   \n",
       "8788    False           False         False          False  ...       False   \n",
       "8789    False           False         False          False  ...       False   \n",
       "\n",
       "      FA_Sat_(g)  FA_Mono_(g)  FA_Poly_(g)  Cholestrl_(mg)  GmWt_1  \\\n",
       "0          False        False        False           False   False   \n",
       "1          False        False        False           False   False   \n",
       "2          False        False        False           False   False   \n",
       "3          False        False        False           False   False   \n",
       "4          False        False        False           False   False   \n",
       "...          ...          ...          ...             ...     ...   \n",
       "8785       False        False        False           False   False   \n",
       "8786       False        False        False           False   False   \n",
       "8787       False        False        False           False   False   \n",
       "8788       False        False        False           False   False   \n",
       "8789       False        False        False           False   False   \n",
       "\n",
       "      GmWt_Desc1  GmWt_2  GmWt_Desc2  Refuse_Pct  \n",
       "0          False   False       False       False  \n",
       "1          False   False       False       False  \n",
       "2          False   False       False       False  \n",
       "3          False   False       False       False  \n",
       "4          False   False       False       False  \n",
       "...          ...     ...         ...         ...  \n",
       "8785       False   False       False       False  \n",
       "8786       False    True        True       False  \n",
       "8787       False    True        True       False  \n",
       "8788       False    True        True       False  \n",
       "8789       False    True        True       False  \n",
       "\n",
       "[8790 rows x 53 columns]"
      ]
     },
     "execution_count": 12,
     "metadata": {},
     "output_type": "execute_result"
    }
   ],
   "source": [
    "df.apply(pd.isna, axis=1)"
   ]
  },
  {
   "cell_type": "code",
   "execution_count": 13,
   "metadata": {
    "Collapsed": "false"
   },
   "outputs": [
    {
     "data": {
      "text/html": [
       "<div>\n",
       "<style scoped>\n",
       "    .dataframe tbody tr th:only-of-type {\n",
       "        vertical-align: middle;\n",
       "    }\n",
       "\n",
       "    .dataframe tbody tr th {\n",
       "        vertical-align: top;\n",
       "    }\n",
       "\n",
       "    .dataframe thead th {\n",
       "        text-align: right;\n",
       "    }\n",
       "</style>\n",
       "<table border=\"1\" class=\"dataframe\">\n",
       "  <thead>\n",
       "    <tr style=\"text-align: right;\">\n",
       "      <th></th>\n",
       "      <th>Shrt_Desc</th>\n",
       "      <th>Water_(g)</th>\n",
       "      <th>Energ_Kcal</th>\n",
       "      <th>Protein_(g)</th>\n",
       "      <th>Lipid_Tot_(g)</th>\n",
       "      <th>Carbohydrt_(g)</th>\n",
       "      <th>Sugar_Tot_(g)</th>\n",
       "      <th>FA_Sat_(g)</th>\n",
       "      <th>FA_Mono_(g)</th>\n",
       "      <th>FA_Poly_(g)</th>\n",
       "    </tr>\n",
       "  </thead>\n",
       "  <tbody>\n",
       "    <tr>\n",
       "      <th>7</th>\n",
       "      <td>CHEESE,CARAWAY</td>\n",
       "      <td>39.28</td>\n",
       "      <td>376</td>\n",
       "      <td>25.18</td>\n",
       "      <td>29.20</td>\n",
       "      <td>3.06</td>\n",
       "      <td>NaN</td>\n",
       "      <td>18.584</td>\n",
       "      <td>8.275</td>\n",
       "      <td>0.830</td>\n",
       "    </tr>\n",
       "    <tr>\n",
       "      <th>9</th>\n",
       "      <td>CHEESE,CHESHIRE</td>\n",
       "      <td>37.65</td>\n",
       "      <td>387</td>\n",
       "      <td>23.37</td>\n",
       "      <td>30.60</td>\n",
       "      <td>4.78</td>\n",
       "      <td>NaN</td>\n",
       "      <td>19.475</td>\n",
       "      <td>8.671</td>\n",
       "      <td>0.870</td>\n",
       "    </tr>\n",
       "    <tr>\n",
       "      <th>20</th>\n",
       "      <td>CHEESE,GJETOST</td>\n",
       "      <td>13.44</td>\n",
       "      <td>466</td>\n",
       "      <td>9.65</td>\n",
       "      <td>29.51</td>\n",
       "      <td>42.65</td>\n",
       "      <td>NaN</td>\n",
       "      <td>19.160</td>\n",
       "      <td>7.879</td>\n",
       "      <td>0.938</td>\n",
       "    </tr>\n",
       "    <tr>\n",
       "      <th>38</th>\n",
       "      <td>CHEESE,ROQUEFORT</td>\n",
       "      <td>39.38</td>\n",
       "      <td>369</td>\n",
       "      <td>21.54</td>\n",
       "      <td>30.64</td>\n",
       "      <td>2.00</td>\n",
       "      <td>NaN</td>\n",
       "      <td>19.263</td>\n",
       "      <td>8.474</td>\n",
       "      <td>1.320</td>\n",
       "    </tr>\n",
       "    <tr>\n",
       "      <th>40</th>\n",
       "      <td>CHEESE,TILSIT</td>\n",
       "      <td>42.86</td>\n",
       "      <td>340</td>\n",
       "      <td>24.41</td>\n",
       "      <td>25.98</td>\n",
       "      <td>1.88</td>\n",
       "      <td>NaN</td>\n",
       "      <td>16.775</td>\n",
       "      <td>7.136</td>\n",
       "      <td>0.721</td>\n",
       "    </tr>\n",
       "    <tr>\n",
       "      <th>...</th>\n",
       "      <td>...</td>\n",
       "      <td>...</td>\n",
       "      <td>...</td>\n",
       "      <td>...</td>\n",
       "      <td>...</td>\n",
       "      <td>...</td>\n",
       "      <td>...</td>\n",
       "      <td>...</td>\n",
       "      <td>...</td>\n",
       "      <td>...</td>\n",
       "    </tr>\n",
       "    <tr>\n",
       "      <th>8531</th>\n",
       "      <td>RESTAURANT,CHINESE,EGG ROLLS,ASSORTED</td>\n",
       "      <td>50.60</td>\n",
       "      <td>250</td>\n",
       "      <td>8.28</td>\n",
       "      <td>11.94</td>\n",
       "      <td>27.29</td>\n",
       "      <td>NaN</td>\n",
       "      <td>2.116</td>\n",
       "      <td>3.036</td>\n",
       "      <td>5.601</td>\n",
       "    </tr>\n",
       "    <tr>\n",
       "      <th>8535</th>\n",
       "      <td>CRACKER BARREL,COUNTRY FRIED SHRIMP PLATTER</td>\n",
       "      <td>46.08</td>\n",
       "      <td>287</td>\n",
       "      <td>12.62</td>\n",
       "      <td>16.77</td>\n",
       "      <td>21.40</td>\n",
       "      <td>NaN</td>\n",
       "      <td>3.064</td>\n",
       "      <td>3.787</td>\n",
       "      <td>8.519</td>\n",
       "    </tr>\n",
       "    <tr>\n",
       "      <th>8536</th>\n",
       "      <td>CRACKER BARREL,FARM RAISED CATFISH PLATTER</td>\n",
       "      <td>52.32</td>\n",
       "      <td>266</td>\n",
       "      <td>22.94</td>\n",
       "      <td>17.05</td>\n",
       "      <td>5.31</td>\n",
       "      <td>NaN</td>\n",
       "      <td>3.249</td>\n",
       "      <td>4.577</td>\n",
       "      <td>7.612</td>\n",
       "    </tr>\n",
       "    <tr>\n",
       "      <th>8538</th>\n",
       "      <td>CRACKER BARREL,GRILLED SIRLOIN STEAK</td>\n",
       "      <td>59.40</td>\n",
       "      <td>203</td>\n",
       "      <td>31.52</td>\n",
       "      <td>8.52</td>\n",
       "      <td>0.00</td>\n",
       "      <td>NaN</td>\n",
       "      <td>3.045</td>\n",
       "      <td>3.405</td>\n",
       "      <td>0.742</td>\n",
       "    </tr>\n",
       "    <tr>\n",
       "      <th>8545</th>\n",
       "      <td>DENNY'S,TOP SIRLOIN STEAK</td>\n",
       "      <td>61.82</td>\n",
       "      <td>182</td>\n",
       "      <td>28.90</td>\n",
       "      <td>7.34</td>\n",
       "      <td>0.14</td>\n",
       "      <td>NaN</td>\n",
       "      <td>2.595</td>\n",
       "      <td>2.840</td>\n",
       "      <td>0.672</td>\n",
       "    </tr>\n",
       "  </tbody>\n",
       "</table>\n",
       "<p>2255 rows × 10 columns</p>\n",
       "</div>"
      ],
      "text/plain": [
       "                                        Shrt_Desc  Water_(g)  Energ_Kcal  \\\n",
       "7                                  CHEESE,CARAWAY      39.28         376   \n",
       "9                                 CHEESE,CHESHIRE      37.65         387   \n",
       "20                                 CHEESE,GJETOST      13.44         466   \n",
       "38                               CHEESE,ROQUEFORT      39.38         369   \n",
       "40                                  CHEESE,TILSIT      42.86         340   \n",
       "...                                           ...        ...         ...   \n",
       "8531        RESTAURANT,CHINESE,EGG ROLLS,ASSORTED      50.60         250   \n",
       "8535  CRACKER BARREL,COUNTRY FRIED SHRIMP PLATTER      46.08         287   \n",
       "8536   CRACKER BARREL,FARM RAISED CATFISH PLATTER      52.32         266   \n",
       "8538         CRACKER BARREL,GRILLED SIRLOIN STEAK      59.40         203   \n",
       "8545                    DENNY'S,TOP SIRLOIN STEAK      61.82         182   \n",
       "\n",
       "      Protein_(g)  Lipid_Tot_(g)  Carbohydrt_(g)  Sugar_Tot_(g)  FA_Sat_(g)  \\\n",
       "7           25.18          29.20            3.06            NaN      18.584   \n",
       "9           23.37          30.60            4.78            NaN      19.475   \n",
       "20           9.65          29.51           42.65            NaN      19.160   \n",
       "38          21.54          30.64            2.00            NaN      19.263   \n",
       "40          24.41          25.98            1.88            NaN      16.775   \n",
       "...           ...            ...             ...            ...         ...   \n",
       "8531         8.28          11.94           27.29            NaN       2.116   \n",
       "8535        12.62          16.77           21.40            NaN       3.064   \n",
       "8536        22.94          17.05            5.31            NaN       3.249   \n",
       "8538        31.52           8.52            0.00            NaN       3.045   \n",
       "8545        28.90           7.34            0.14            NaN       2.595   \n",
       "\n",
       "      FA_Mono_(g)  FA_Poly_(g)  \n",
       "7           8.275        0.830  \n",
       "9           8.671        0.870  \n",
       "20          7.879        0.938  \n",
       "38          8.474        1.320  \n",
       "40          7.136        0.721  \n",
       "...           ...          ...  \n",
       "8531        3.036        5.601  \n",
       "8535        3.787        8.519  \n",
       "8536        4.577        7.612  \n",
       "8538        3.405        0.742  \n",
       "8545        2.840        0.672  \n",
       "\n",
       "[2255 rows x 10 columns]"
      ]
     },
     "execution_count": 13,
     "metadata": {},
     "output_type": "execute_result"
    }
   ],
   "source": [
    "Macros[Macros.isnull().any(axis=1)]"
   ]
  },
  {
   "cell_type": "markdown",
   "metadata": {
    "Collapsed": "false"
   },
   "source": [
    "### Fill"
   ]
  },
  {
   "cell_type": "code",
   "execution_count": 14,
   "metadata": {
    "Collapsed": "false"
   },
   "outputs": [],
   "source": [
    "Macros.fillna(0, inplace=True)"
   ]
  },
  {
   "cell_type": "code",
   "execution_count": 15,
   "metadata": {
    "Collapsed": "false"
   },
   "outputs": [],
   "source": [
    "# Fill and replace ('reassign')\n",
    "Macros.loc[:, Macros.columns != 'Shrt_Desc']= Macros.loc[:, Macros.columns != 'Shrt_Desc'].fillna(0)"
   ]
  },
  {
   "cell_type": "code",
   "execution_count": null,
   "metadata": {
    "Collapsed": "false"
   },
   "outputs": [],
   "source": []
  },
  {
   "cell_type": "markdown",
   "metadata": {
    "Collapsed": "false"
   },
   "source": [
    "## Clustering"
   ]
  },
  {
   "cell_type": "markdown",
   "metadata": {
    "Collapsed": "false"
   },
   "source": [
    "Cluster by NLP on short descriptions later"
   ]
  },
  {
   "cell_type": "markdown",
   "metadata": {
    "Collapsed": "false"
   },
   "source": [
    "## Standardize Data"
   ]
  },
  {
   "cell_type": "code",
   "execution_count": null,
   "metadata": {
    "Collapsed": "false"
   },
   "outputs": [],
   "source": [
    "data=Macros.loc[:, Macros.columns != 'Shrt_Desc'] # append back to short descp on index\n",
    "# Everything but this column"
   ]
  },
  {
   "cell_type": "code",
   "execution_count": 16,
   "metadata": {
    "Collapsed": "false"
   },
   "outputs": [
    {
     "data": {
      "text/html": [
       "<div>\n",
       "<style scoped>\n",
       "    .dataframe tbody tr th:only-of-type {\n",
       "        vertical-align: middle;\n",
       "    }\n",
       "\n",
       "    .dataframe tbody tr th {\n",
       "        vertical-align: top;\n",
       "    }\n",
       "\n",
       "    .dataframe thead th {\n",
       "        text-align: right;\n",
       "    }\n",
       "</style>\n",
       "<table border=\"1\" class=\"dataframe\">\n",
       "  <thead>\n",
       "    <tr style=\"text-align: right;\">\n",
       "      <th></th>\n",
       "      <th>0</th>\n",
       "      <th>1</th>\n",
       "      <th>2</th>\n",
       "      <th>3</th>\n",
       "      <th>4</th>\n",
       "      <th>5</th>\n",
       "      <th>6</th>\n",
       "      <th>7</th>\n",
       "      <th>8</th>\n",
       "    </tr>\n",
       "  </thead>\n",
       "  <tbody>\n",
       "    <tr>\n",
       "      <th>count</th>\n",
       "      <td>8.789000e+03</td>\n",
       "      <td>8.790000e+03</td>\n",
       "      <td>8.790000e+03</td>\n",
       "      <td>8.790000e+03</td>\n",
       "      <td>8.790000e+03</td>\n",
       "      <td>6.958000e+03</td>\n",
       "      <td>8.441000e+03</td>\n",
       "      <td>8.124000e+03</td>\n",
       "      <td>8.125000e+03</td>\n",
       "    </tr>\n",
       "    <tr>\n",
       "      <th>mean</th>\n",
       "      <td>8.329515e-17</td>\n",
       "      <td>-2.720867e-16</td>\n",
       "      <td>-2.505896e-16</td>\n",
       "      <td>4.319639e-16</td>\n",
       "      <td>-3.177170e-15</td>\n",
       "      <td>-2.711861e-15</td>\n",
       "      <td>-2.409846e-16</td>\n",
       "      <td>4.235083e-17</td>\n",
       "      <td>1.051877e-16</td>\n",
       "    </tr>\n",
       "    <tr>\n",
       "      <th>std</th>\n",
       "      <td>1.000057e+00</td>\n",
       "      <td>1.000057e+00</td>\n",
       "      <td>1.000057e+00</td>\n",
       "      <td>1.000057e+00</td>\n",
       "      <td>1.000057e+00</td>\n",
       "      <td>1.000072e+00</td>\n",
       "      <td>1.000059e+00</td>\n",
       "      <td>1.000062e+00</td>\n",
       "      <td>1.000062e+00</td>\n",
       "    </tr>\n",
       "    <tr>\n",
       "      <th>min</th>\n",
       "      <td>-1.758540e+00</td>\n",
       "      <td>-1.332316e+00</td>\n",
       "      <td>-1.077206e+00</td>\n",
       "      <td>-6.673684e-01</td>\n",
       "      <td>-8.114522e-01</td>\n",
       "      <td>-5.724935e-01</td>\n",
       "      <td>-5.486476e-01</td>\n",
       "      <td>-5.821419e-01</td>\n",
       "      <td>-4.388534e-01</td>\n",
       "    </tr>\n",
       "    <tr>\n",
       "      <th>25%</th>\n",
       "      <td>-7.933488e-01</td>\n",
       "      <td>-7.966052e-01</td>\n",
       "      <td>-8.511828e-01</td>\n",
       "      <td>-6.072948e-01</td>\n",
       "      <td>-8.096186e-01</td>\n",
       "      <td>-5.724935e-01</td>\n",
       "      <td>-5.148972e-01</td>\n",
       "      <td>-5.485130e-01</td>\n",
       "      <td>-3.966701e-01</td>\n",
       "    </tr>\n",
       "    <tr>\n",
       "      <th>50%</th>\n",
       "      <td>2.914352e-01</td>\n",
       "      <td>-2.079124e-01</td>\n",
       "      <td>-3.174633e-01</td>\n",
       "      <td>-3.423387e-01</td>\n",
       "      <td>-4.689421e-01</td>\n",
       "      <td>-4.491902e-01</td>\n",
       "      <td>-3.044179e-01</td>\n",
       "      <td>-3.056214e-01</td>\n",
       "      <td>-3.054008e-01</td>\n",
       "    </tr>\n",
       "    <tr>\n",
       "      <th>75%</th>\n",
       "      <td>7.750058e-01</td>\n",
       "      <td>6.515792e-01</td>\n",
       "      <td>8.107553e-01</td>\n",
       "      <td>2.002205e-01</td>\n",
       "      <td>4.687434e-01</td>\n",
       "      <td>4.988653e-02</td>\n",
       "      <td>1.179216e-01</td>\n",
       "      <td>1.474958e-01</td>\n",
       "      <td>-3.983768e-02</td>\n",
       "    </tr>\n",
       "    <tr>\n",
       "      <th>max</th>\n",
       "      <td>1.491262e+00</td>\n",
       "      <td>3.977694e+00</td>\n",
       "      <td>7.310358e+00</td>\n",
       "      <td>5.656166e+00</td>\n",
       "      <td>2.855679e+00</td>\n",
       "      <td>6.115370e+00</td>\n",
       "      <td>1.411741e+01</td>\n",
       "      <td>1.135582e+01</td>\n",
       "      <td>1.386953e+01</td>\n",
       "    </tr>\n",
       "  </tbody>\n",
       "</table>\n",
       "</div>"
      ],
      "text/plain": [
       "                  0             1             2             3             4  \\\n",
       "count  8.789000e+03  8.790000e+03  8.790000e+03  8.790000e+03  8.790000e+03   \n",
       "mean   8.329515e-17 -2.720867e-16 -2.505896e-16  4.319639e-16 -3.177170e-15   \n",
       "std    1.000057e+00  1.000057e+00  1.000057e+00  1.000057e+00  1.000057e+00   \n",
       "min   -1.758540e+00 -1.332316e+00 -1.077206e+00 -6.673684e-01 -8.114522e-01   \n",
       "25%   -7.933488e-01 -7.966052e-01 -8.511828e-01 -6.072948e-01 -8.096186e-01   \n",
       "50%    2.914352e-01 -2.079124e-01 -3.174633e-01 -3.423387e-01 -4.689421e-01   \n",
       "75%    7.750058e-01  6.515792e-01  8.107553e-01  2.002205e-01  4.687434e-01   \n",
       "max    1.491262e+00  3.977694e+00  7.310358e+00  5.656166e+00  2.855679e+00   \n",
       "\n",
       "                  5             6             7             8  \n",
       "count  6.958000e+03  8.441000e+03  8.124000e+03  8.125000e+03  \n",
       "mean  -2.711861e-15 -2.409846e-16  4.235083e-17  1.051877e-16  \n",
       "std    1.000072e+00  1.000059e+00  1.000062e+00  1.000062e+00  \n",
       "min   -5.724935e-01 -5.486476e-01 -5.821419e-01 -4.388534e-01  \n",
       "25%   -5.724935e-01 -5.148972e-01 -5.485130e-01 -3.966701e-01  \n",
       "50%   -4.491902e-01 -3.044179e-01 -3.056214e-01 -3.054008e-01  \n",
       "75%    4.988653e-02  1.179216e-01  1.474958e-01 -3.983768e-02  \n",
       "max    6.115370e+00  1.411741e+01  1.135582e+01  1.386953e+01  "
      ]
     },
     "execution_count": 16,
     "metadata": {},
     "output_type": "execute_result"
    }
   ],
   "source": [
    "from sklearn.preprocessing import StandardScaler\n",
    "scaler = StandardScaler()\n",
    "data_scaled = scaler.fit_transform(data)\n",
    "\n",
    "# statistics of scaled data\n",
    "pd.DataFrame(data_scaled).describe()"
   ]
  },
  {
   "cell_type": "code",
   "execution_count": null,
   "metadata": {
    "Collapsed": "false"
   },
   "outputs": [],
   "source": []
  },
  {
   "cell_type": "markdown",
   "metadata": {
    "Collapsed": "false"
   },
   "source": [
    "## Fitting K-means algorithm"
   ]
  },
  {
   "cell_type": "code",
   "execution_count": null,
   "metadata": {
    "Collapsed": "false"
   },
   "outputs": [],
   "source": [
    "# fitting multiple k-means algorithms and storing the values in an empty list\n",
    "\n",
    "from sklearn.cluster import KMeans\n",
    "\n",
    "SSE = []\n",
    "for cluster in range(1,20):\n",
    "    kmeans = KMeans(n_jobs = -1, n_clusters = cluster, init='k-means++')\n",
    "    kmeans.fit(data_scaled)\n",
    "    SSE.append(kmeans.inertia_)\n",
    "\n",
    "# converting the results into a dataframe and plotting them\n",
    "frame = pd.DataFrame({'Cluster':range(1,20), 'SSE':SSE})\n",
    "plt.figure(figsize=(12,6))\n",
    "plt.plot(frame['Cluster'], frame['SSE'], marker='o')\n",
    "plt.xlabel('Number of clusters')\n",
    "plt.ylabel('Inertia')"
   ]
  },
  {
   "cell_type": "code",
   "execution_count": null,
   "metadata": {
    "Collapsed": "false"
   },
   "outputs": [],
   "source": [
    "# View curve for elbow method"
   ]
  },
  {
   "cell_type": "code",
   "execution_count": null,
   "metadata": {
    "Collapsed": "false"
   },
   "outputs": [],
   "source": [
    "# Fitting\n",
    "\n",
    "# k means using 20 clusters and k-means++ initialization\n",
    "kmeans = KMeans(n_jobs = -1, n_clusters = 20, init='k-means++')\n",
    "kmeans.fit(data_scaled)\n",
    "pred = kmeans.predict(data_scaled)"
   ]
  },
  {
   "cell_type": "code",
   "execution_count": null,
   "metadata": {
    "Collapsed": "false"
   },
   "outputs": [],
   "source": [
    "frame = pd.DataFrame(data_scaled)\n",
    "frame['cluster'] = pred\n",
    "frame['cluster'].value_counts()"
   ]
  },
  {
   "cell_type": "code",
   "execution_count": null,
   "metadata": {
    "Collapsed": "false"
   },
   "outputs": [],
   "source": []
  },
  {
   "cell_type": "markdown",
   "metadata": {
    "Collapsed": "false"
   },
   "source": [
    "### Merge Labels back on to original dataset"
   ]
  },
  {
   "cell_type": "code",
   "execution_count": null,
   "metadata": {
    "Collapsed": "false"
   },
   "outputs": [],
   "source": [
    "clustered_data=pd.merge(Macros, frame, left_index=True, right_index=True)"
   ]
  },
  {
   "cell_type": "code",
   "execution_count": null,
   "metadata": {
    "Collapsed": "false"
   },
   "outputs": [],
   "source": [
    "# Find means\n",
    "clustered_data.groupby('cluster').mean()"
   ]
  },
  {
   "cell_type": "code",
   "execution_count": null,
   "metadata": {
    "Collapsed": "false"
   },
   "outputs": [],
   "source": [
    "# Prepare to get Corr Plot\n",
    "\n",
    "cluster_numerics=clustered_data.loc[:,['cluster', 'Water_(g)', 'Energ_Kcal', 'Protein_(g)', 'Lipid_Tot_(g)',\n",
    "       'Carbohydrt_(g)', 'Sugar_Tot_(g)', 'FA_Sat_(g)', 'FA_Mono_(g)',\n",
    "       'FA_Poly_(g)']]\n",
    "\n",
    "# Get Corr plot\n",
    "\n",
    "cluster_numerics.corr().style.background_gradient(cmap='coolwarm').set_precision(2)"
   ]
  },
  {
   "cell_type": "code",
   "execution_count": null,
   "metadata": {
    "Collapsed": "false"
   },
   "outputs": [],
   "source": []
  },
  {
   "cell_type": "markdown",
   "metadata": {
    "Collapsed": "false"
   },
   "source": [
    "# Linear Regression"
   ]
  },
  {
   "cell_type": "markdown",
   "metadata": {
    "Collapsed": "false"
   },
   "source": [
    "## Questions\n",
    "How to do feature engineering from here?\n",
    "\n",
    "combine which similar categories to better understand how the Kmeans clustering worked\n",
    "Linear Regression\n",
    "\n",
    "should be able to make a perfect calculation for total calories from Protein, Fat, Carbohydrates\n",
    "\n",
    "Validate and test effectiveness of method\n",
    "\n",
    "drop unnecessary features like Saturated Fat, Total Sugar that's redundant from Carbohydrates.\n",
    "see which type of penalized regression can completely drop them (I think it's lasso)\n",
    "\n",
    "**Reference** https://scikit-learn.org/stable/modules/linear_model.html"
   ]
  },
  {
   "cell_type": "markdown",
   "metadata": {
    "Collapsed": "false"
   },
   "source": [
    "## Train-Test Split"
   ]
  },
  {
   "cell_type": "code",
   "execution_count": null,
   "metadata": {
    "Collapsed": "false"
   },
   "outputs": [],
   "source": [
    "from sklearn.model_selection import train_test_split\n",
    "\n",
    "X_train, X_test, y_train, y_test = train_test_split(data.loc[:, data.columns!='Energ_Kcal'] , data.loc[:,'Energ_Kcal'], test_size=0.33, random_state=0)"
   ]
  },
  {
   "cell_type": "markdown",
   "metadata": {
    "Collapsed": "false"
   },
   "source": [
    "## Simple Linear Regression"
   ]
  },
  {
   "cell_type": "code",
   "execution_count": null,
   "metadata": {
    "Collapsed": "false"
   },
   "outputs": [],
   "source": [
    "from sklearn.linear_model import LinearRegression\n",
    ">>> reg = LinearRegression().fit(X_train, y_train)\n",
    ">>> print(reg.score(X_train, y_train))\n",
    ">>> print(reg.coef_)\n",
    ">>> print(reg.intercept_)"
   ]
  },
  {
   "cell_type": "code",
   "execution_count": null,
   "metadata": {
    "Collapsed": "false"
   },
   "outputs": [],
   "source": [
    "reg.score(X_test, y_test) # pretty darn good!"
   ]
  },
  {
   "cell_type": "markdown",
   "metadata": {
    "Collapsed": "false"
   },
   "source": [
    "## Ridge Regression"
   ]
  },
  {
   "cell_type": "code",
   "execution_count": null,
   "metadata": {
    "Collapsed": "false"
   },
   "outputs": [],
   "source": [
    ">>> from sklearn import linear_model\n",
    "ridgey=linear_model.Ridge(alpha=.5) # what does this hyperparameter mean?\n",
    "ridgey.fit(X_train, y_train)\n",
    "print(ridgey.coef_)\n",
    "print(ridgey.intercept_)"
   ]
  },
  {
   "cell_type": "code",
   "execution_count": null,
   "metadata": {
    "Collapsed": "false"
   },
   "outputs": [],
   "source": []
  },
  {
   "cell_type": "code",
   "execution_count": null,
   "metadata": {
    "Collapsed": "false"
   },
   "outputs": [],
   "source": []
  },
  {
   "cell_type": "markdown",
   "metadata": {
    "Collapsed": "false"
   },
   "source": [
    "## Cross Validation"
   ]
  },
  {
   "cell_type": "code",
   "execution_count": null,
   "metadata": {
    "Collapsed": "false"
   },
   "outputs": [],
   "source": [
    ">>> Cross_reg = linear_model.RidgeCV(alphas=np.logspace(-6, 6, 13))\n",
    ">>> print(Cross_reg.fit(X_train, y_train))\n",
    ">>> print(Cross_reg.alpha_)"
   ]
  },
  {
   "cell_type": "code",
   "execution_count": null,
   "metadata": {
    "Collapsed": "false"
   },
   "outputs": [],
   "source": []
  },
  {
   "cell_type": "code",
   "execution_count": null,
   "metadata": {
    "Collapsed": "false"
   },
   "outputs": [],
   "source": []
  },
  {
   "cell_type": "code",
   "execution_count": null,
   "metadata": {
    "Collapsed": "false"
   },
   "outputs": [],
   "source": []
  },
  {
   "cell_type": "code",
   "execution_count": null,
   "metadata": {
    "Collapsed": "false"
   },
   "outputs": [],
   "source": []
  }
 ],
 "metadata": {
  "kernelspec": {
   "display_name": "Python 3",
   "language": "python",
   "name": "python3"
  },
  "language_info": {
   "codemirror_mode": {
    "name": "ipython",
    "version": 3
   },
   "file_extension": ".py",
   "mimetype": "text/x-python",
   "name": "python",
   "nbconvert_exporter": "python",
   "pygments_lexer": "ipython3",
   "version": "3.7.7"
  }
 },
 "nbformat": 4,
 "nbformat_minor": 4
}
